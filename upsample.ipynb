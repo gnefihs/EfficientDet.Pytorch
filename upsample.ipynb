{
 "cells": [
  {
   "cell_type": "code",
   "execution_count": 3,
   "metadata": {},
   "outputs": [],
   "source": [
    "from torch import nn\n",
    "import torch"
   ]
  },
  {
   "cell_type": "code",
   "execution_count": 27,
   "metadata": {},
   "outputs": [],
   "source": [
    "class Model(nn.Module):\n",
    "    def __init__(self):\n",
    "        super(Model, self).__init__()\n",
    "        sf = 9 # scaling factor\n",
    "        \n",
    "        #first layer of conv\n",
    "        self.conv1 = nn.Conv2d(3,32,3, padding=1, stride=1)\n",
    "#         self.conv1.weight.data.normal_(1/sf,1e-2)\n",
    "#         self.conv1.bias.data.normal_(0,1e-5)\n",
    "        self.relu1 = nn.PReLU()\n",
    "        \n",
    "        #res block\n",
    "        self.conv2 = nn.Conv2d(32,32,3, padding=1, stride=1)\n",
    "        self.bn2 = nn.BatchNorm2d(32)\n",
    "        self.relu2 = nn.PReLU()\n",
    "        \n",
    "        self.conv3 = nn.Conv2d(32,32,3, padding=1, stride=1)\n",
    "        self.bn3 = nn.BatchNorm2d(32)\n",
    "        \n",
    "        # finishing conv \n",
    "        self.conv4 = nn.Conv2d(32,48,3, padding=1, stride=1)\n",
    "        self.relu4 = nn.PReLU()\n",
    "    \n",
    "    def forward(self, x):\n",
    "        x = self.conv1(x)\n",
    "        x = self.relu1(x)\n",
    "        res = x\n",
    "        \n",
    "        x = self.conv2(x)\n",
    "        x = self.bn2(x)\n",
    "        x = self.relu2(x)\n",
    "        \n",
    "        x = self.conv3(x)\n",
    "        x = self.bn3(x)\n",
    "        x += res\n",
    "        \n",
    "        x = self.conv4(x)       \n",
    "        x = torch.nn.functional.pixel_shuffle(x, 4)\n",
    "        x = self.relu4(x)       \n",
    "        return x"
   ]
  },
  {
   "cell_type": "code",
   "execution_count": 30,
   "metadata": {},
   "outputs": [],
   "source": [
    "inp = torch.Tensor(1,3,128,128)"
   ]
  },
  {
   "cell_type": "code",
   "execution_count": 31,
   "metadata": {},
   "outputs": [
    {
     "data": {
      "text/plain": [
       "torch.Size([1, 3, 512, 512])"
      ]
     },
     "execution_count": 31,
     "metadata": {},
     "output_type": "execute_result"
    }
   ],
   "source": [
    "model = Model()\n",
    "model.eval()(inp).shape"
   ]
  }
 ],
 "metadata": {
  "kernelspec": {
   "display_name": "Python 3",
   "language": "python",
   "name": "python3"
  },
  "language_info": {
   "codemirror_mode": {
    "name": "ipython",
    "version": 3
   },
   "file_extension": ".py",
   "mimetype": "text/x-python",
   "name": "python",
   "nbconvert_exporter": "python",
   "pygments_lexer": "ipython3",
   "version": "3.5.2"
  }
 },
 "nbformat": 4,
 "nbformat_minor": 2
}
