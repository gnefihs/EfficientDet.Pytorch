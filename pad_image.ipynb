{
 "cells": [
  {
   "cell_type": "code",
   "execution_count": 46,
   "metadata": {},
   "outputs": [],
   "source": [
    "import os\n",
    "import sys\n",
    "path = '/opt/ros/kinetic/lib/python2.7/dist-packages'\n",
    "if path in sys.path:\n",
    "    sys.path.remove(path)\n",
    "import cv2\n",
    "import numpy as np\n",
    "import matplotlib.pyplot as plt\n",
    "from tqdm import tqdm"
   ]
  },
  {
   "cell_type": "code",
   "execution_count": 47,
   "metadata": {},
   "outputs": [],
   "source": [
    "def pad(img,common_size):\n",
    "    height, width, _ = img.shape\n",
    "    if height > width:\n",
    "        scale = common_size / height\n",
    "        resized_height = common_size\n",
    "        resized_width = int(width * scale)\n",
    "    else:\n",
    "        scale = common_size / width\n",
    "        resized_height = int(height * scale)\n",
    "        resized_width = common_size\n",
    "\n",
    "    image = cv2.resize(img,(resized_width, resized_height))\n",
    "    new_img = np.ones((common_size, common_size, 3),dtype=np.uint8)*127\n",
    "    new_img[0:resized_height, 0:resized_width] = image\n",
    "    return new_img"
   ]
  },
  {
   "cell_type": "code",
   "execution_count": 57,
   "metadata": {},
   "outputs": [],
   "source": [
    "x,y = img_file.split('.')\n",
    "new_file = x[:-4] + '.' + y"
   ]
  },
  {
   "cell_type": "code",
   "execution_count": 67,
   "metadata": {},
   "outputs": [],
   "source": [
    "f = open(\"/media/sf/61CEC7C06EDB83CC/VOCdevkit/VOC2007/ImageSets/Main/train.txt\",'r')\n",
    "train_files = [x[:-1] + '.jpg' for x in f.readlines()]"
   ]
  },
  {
   "cell_type": "code",
   "execution_count": 70,
   "metadata": {},
   "outputs": [],
   "source": [
    "f = open(\"/media/sf/61CEC7C06EDB83CC/VOCdevkit/VOC2007/ImageSets/Main/val.txt\",'r')\n",
    "val_files = [x[:-1] + '.jpg' for x in f.readlines()]"
   ]
  },
  {
   "cell_type": "code",
   "execution_count": 86,
   "metadata": {},
   "outputs": [
    {
     "name": "stderr",
     "output_type": "stream",
     "text": [
      "100%|██████████| 9963/9963 [00:20<00:00, 484.77it/s]"
     ]
    },
    {
     "name": "stdout",
     "output_type": "stream",
     "text": [
      "2510\n"
     ]
    },
    {
     "name": "stderr",
     "output_type": "stream",
     "text": [
      "\n"
     ]
    }
   ],
   "source": [
    "img_dir = \"/media/sf/61CEC7C06EDB83CC/VOCdevkit/VOC2007/JPEGImages/\"\n",
    "img_list = os.listdir(img_dir)\n",
    "\n",
    "new_dir =  \"/media/sf/61CEC7C06EDB83CC/VOCdevkit/voc_2007_proc/\"\n",
    "train_dir = \"/media/sf/61CEC7C06EDB83CC/VOCdevkit/voc_2007_proc/train/\"\n",
    "val_dir = \"/media/sf/61CEC7C06EDB83CC/VOCdevkit/voc_2007_proc/val/\"\n",
    "\n",
    "new_size = 512\n",
    "processed_count = 0\n",
    "for img_file in tqdm(img_list):\n",
    "    x,y = img_file.split('.')\n",
    "    new_file = x + '.' + y\n",
    "    \n",
    "    if new_file in val_files:\n",
    "        img = cv2.imread(img_dir + img_file)\n",
    "        new_img = pad(img, new_size)\n",
    "\n",
    "        cv2.imwrite(val_dir + new_file, new_img)\n",
    "        processed_count+=1\n",
    "        \n",
    "print(processed_count)"
   ]
  },
  {
   "cell_type": "markdown",
   "metadata": {},
   "source": [
    "---"
   ]
  },
  {
   "cell_type": "markdown",
   "metadata": {},
   "source": [
    "## Code for resizing only"
   ]
  },
  {
   "cell_type": "code",
   "execution_count": 23,
   "metadata": {},
   "outputs": [
    {
     "name": "stderr",
     "output_type": "stream",
     "text": [
      "100%|██████████| 2/2 [00:00<00:00, 55.76it/s]"
     ]
    },
    {
     "name": "stdout",
     "output_type": "stream",
     "text": [
      "2\n"
     ]
    },
    {
     "name": "stderr",
     "output_type": "stream",
     "text": [
      "\n"
     ]
    }
   ],
   "source": [
    "import os\n",
    "import sys\n",
    "path = '/opt/ros/kinetic/lib/python2.7/dist-packages'\n",
    "if path in sys.path:\n",
    "    sys.path.remove(path)\n",
    "import cv2\n",
    "import numpy as np\n",
    "import matplotlib.pyplot as plt\n",
    "\n",
    "def resize_to_512(img,common_size=512):\n",
    "    height, width, _ = img.shape\n",
    "    if height > width:\n",
    "        scale = common_size / height\n",
    "        resized_height = common_size\n",
    "        resized_width = int(width * scale)\n",
    "    else:\n",
    "        scale = common_size / width\n",
    "        resized_height = int(height * scale)\n",
    "        resized_width = common_size\n",
    "\n",
    "    img = cv2.resize(img,(resized_width, resized_height))\n",
    "    return img\n",
    "\n",
    "\"\"\"fill these up\"\"\"\n",
    "img_dir = \"/home/sf/Documents/ee6934/Project2/EfficientDet.Pytorch/img_test\" # fill this up to your image directory\n",
    "new_img_dir = \"/home/sf/Documents/ee6934/Project2/EfficientDet.Pytorch/img_test2\" # fill this up with the directory for processed images\n",
    "\n",
    "\n",
    "img_file_list = os.listdir(img_dir)\n",
    "\n",
    "processed_count = 0\n",
    "for img_file in img_file_list:\n",
    "        img = cv2.imread(os.path.join(img_dir, img_file))\n",
    "        new_img = resize_to_512(img)\n",
    "\n",
    "        cv2.imwrite(os.path.join(new_img_dir, img_file), new_img)\n",
    "        processed_count+=1\n",
    "        \n",
    "print(processed_count)"
   ]
  }
 ],
 "metadata": {
  "kernelspec": {
   "display_name": "Python 3",
   "language": "python",
   "name": "python3"
  },
  "language_info": {
   "codemirror_mode": {
    "name": "ipython",
    "version": 3
   },
   "file_extension": ".py",
   "mimetype": "text/x-python",
   "name": "python",
   "nbconvert_exporter": "python",
   "pygments_lexer": "ipython3",
   "version": "3.5.2"
  }
 },
 "nbformat": 4,
 "nbformat_minor": 2
}
